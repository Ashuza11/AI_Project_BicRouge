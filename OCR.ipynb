{
 "cells": [
  {
   "cell_type": "code",
   "execution_count": 1,
   "id": "6fde7d00-e8c3-438f-969b-e5ffebbc955f",
   "metadata": {},
   "outputs": [
    {
     "name": "stdout",
     "output_type": "stream",
     "text": [
      "Requirement already satisfied: nougat-ocr in c:\\users\\dell\\anaconda3\\lib\\site-packages (0.1.17)\n",
      "Requirement already satisfied: transformers>=4.25.1 in c:\\users\\dell\\anaconda3\\lib\\site-packages (from nougat-ocr) (4.44.1)\n",
      "Requirement already satisfied: timm==0.5.4 in c:\\users\\dell\\anaconda3\\lib\\site-packages (from nougat-ocr) (0.5.4)\n",
      "Requirement already satisfied: orjson in c:\\users\\dell\\anaconda3\\lib\\site-packages (from nougat-ocr) (3.10.6)\n",
      "Requirement already satisfied: opencv-python-headless in c:\\users\\dell\\anaconda3\\lib\\site-packages (from nougat-ocr) (4.10.0.84)\n",
      "Requirement already satisfied: datasets[vision] in c:\\users\\dell\\anaconda3\\lib\\site-packages (from nougat-ocr) (2.19.1)\n",
      "Requirement already satisfied: lightning<2022,>=2.0.0 in c:\\users\\dell\\anaconda3\\lib\\site-packages (from nougat-ocr) (2.3.3)\n",
      "Requirement already satisfied: nltk in c:\\users\\dell\\anaconda3\\lib\\site-packages (from nougat-ocr) (3.9.1)\n",
      "Requirement already satisfied: python-Levenshtein in c:\\users\\dell\\anaconda3\\lib\\site-packages (from nougat-ocr) (0.25.1)\n",
      "Requirement already satisfied: sentencepiece in c:\\users\\dell\\anaconda3\\lib\\site-packages (from nougat-ocr) (0.2.0)\n",
      "Requirement already satisfied: sconf>=0.2.3 in c:\\users\\dell\\anaconda3\\lib\\site-packages (from nougat-ocr) (0.2.5)\n",
      "Requirement already satisfied: albumentations>=1.0.0 in c:\\users\\dell\\anaconda3\\lib\\site-packages (from nougat-ocr) (1.4.18)\n",
      "Requirement already satisfied: pypdf>=3.1.0 in c:\\users\\dell\\anaconda3\\lib\\site-packages (from nougat-ocr) (5.0.1)\n",
      "Requirement already satisfied: pypdfium2 in c:\\users\\dell\\anaconda3\\lib\\site-packages (from nougat-ocr) (4.30.0)\n",
      "Requirement already satisfied: torch>=1.4 in c:\\users\\dell\\anaconda3\\lib\\site-packages (from timm==0.5.4->nougat-ocr) (2.4.0+cu118)\n",
      "Requirement already satisfied: torchvision in c:\\users\\dell\\anaconda3\\lib\\site-packages (from timm==0.5.4->nougat-ocr) (0.19.0+cu118)\n",
      "Requirement already satisfied: numpy>=1.24.4 in c:\\users\\dell\\anaconda3\\lib\\site-packages (from albumentations>=1.0.0->nougat-ocr) (1.24.4)\n",
      "Requirement already satisfied: scipy>=1.10.0 in c:\\users\\dell\\anaconda3\\lib\\site-packages (from albumentations>=1.0.0->nougat-ocr) (1.10.1)\n",
      "Requirement already satisfied: scikit-image>=0.21.0 in c:\\users\\dell\\anaconda3\\lib\\site-packages (from albumentations>=1.0.0->nougat-ocr) (0.21.0)\n",
      "Requirement already satisfied: PyYAML in c:\\users\\dell\\anaconda3\\lib\\site-packages (from albumentations>=1.0.0->nougat-ocr) (6.0.1)\n",
      "Requirement already satisfied: pydantic>=2.7.0 in c:\\users\\dell\\anaconda3\\lib\\site-packages (from albumentations>=1.0.0->nougat-ocr) (2.9.2)\n",
      "Requirement already satisfied: albucore==0.0.17 in c:\\users\\dell\\anaconda3\\lib\\site-packages (from albumentations>=1.0.0->nougat-ocr) (0.0.17)\n",
      "Requirement already satisfied: eval-type-backport in c:\\users\\dell\\anaconda3\\lib\\site-packages (from albumentations>=1.0.0->nougat-ocr) (0.2.0)\n",
      "Requirement already satisfied: typing-extensions>=4.9.0 in c:\\users\\dell\\anaconda3\\lib\\site-packages (from albumentations>=1.0.0->nougat-ocr) (4.11.0)\n",
      "Requirement already satisfied: fsspec<2026.0,>=2022.5.0 in c:\\users\\dell\\anaconda3\\lib\\site-packages (from fsspec[http]<2026.0,>=2022.5.0->lightning<2022,>=2.0.0->nougat-ocr) (2024.2.0)\n",
      "Requirement already satisfied: lightning-utilities<2.0,>=0.10.0 in c:\\users\\dell\\anaconda3\\lib\\site-packages (from lightning<2022,>=2.0.0->nougat-ocr) (0.11.8)\n",
      "Requirement already satisfied: packaging<25.0,>=20.0 in c:\\users\\dell\\anaconda3\\lib\\site-packages (from lightning<2022,>=2.0.0->nougat-ocr) (23.2)\n",
      "Requirement already satisfied: torchmetrics<3.0,>=0.7.0 in c:\\users\\dell\\anaconda3\\lib\\site-packages (from lightning<2022,>=2.0.0->nougat-ocr) (1.5.0)\n",
      "Requirement already satisfied: tqdm<6.0,>=4.57.0 in c:\\users\\dell\\anaconda3\\lib\\site-packages (from lightning<2022,>=2.0.0->nougat-ocr) (4.66.5)\n",
      "Requirement already satisfied: pytorch-lightning in c:\\users\\dell\\anaconda3\\lib\\site-packages (from lightning<2022,>=2.0.0->nougat-ocr) (2.4.0)\n",
      "Requirement already satisfied: ruamel.yaml in c:\\users\\dell\\anaconda3\\lib\\site-packages (from sconf>=0.2.3->nougat-ocr) (0.18.6)\n",
      "Requirement already satisfied: munch in c:\\users\\dell\\anaconda3\\lib\\site-packages (from sconf>=0.2.3->nougat-ocr) (4.0.0)\n",
      "Requirement already satisfied: filelock in c:\\users\\dell\\anaconda3\\lib\\site-packages (from transformers>=4.25.1->nougat-ocr) (3.13.1)\n",
      "Requirement already satisfied: huggingface-hub<1.0,>=0.23.2 in c:\\users\\dell\\anaconda3\\lib\\site-packages (from transformers>=4.25.1->nougat-ocr) (0.24.6)\n",
      "Requirement already satisfied: regex!=2019.12.17 in c:\\users\\dell\\anaconda3\\lib\\site-packages (from transformers>=4.25.1->nougat-ocr) (2024.9.11)\n",
      "Requirement already satisfied: requests in c:\\users\\dell\\anaconda3\\lib\\site-packages (from transformers>=4.25.1->nougat-ocr) (2.31.0)\n",
      "Requirement already satisfied: tokenizers<0.20,>=0.19 in c:\\users\\dell\\anaconda3\\lib\\site-packages (from transformers>=4.25.1->nougat-ocr) (0.19.1)\n",
      "Requirement already satisfied: safetensors>=0.4.1 in c:\\users\\dell\\anaconda3\\lib\\site-packages (from transformers>=4.25.1->nougat-ocr) (0.4.4)\n",
      "Requirement already satisfied: pyarrow>=12.0.0 in c:\\users\\dell\\anaconda3\\lib\\site-packages (from datasets[vision]->nougat-ocr) (16.1.0)\n",
      "Requirement already satisfied: dill<0.3.9,>=0.3.0 in c:\\users\\dell\\anaconda3\\lib\\site-packages (from datasets[vision]->nougat-ocr) (0.3.8)\n",
      "Requirement already satisfied: pandas in c:\\users\\dell\\anaconda3\\lib\\site-packages (from datasets[vision]->nougat-ocr) (2.0.3)\n",
      "Requirement already satisfied: xxhash in c:\\users\\dell\\anaconda3\\lib\\site-packages (from datasets[vision]->nougat-ocr) (2.0.2)\n",
      "Requirement already satisfied: multiprocess in c:\\users\\dell\\anaconda3\\lib\\site-packages (from datasets[vision]->nougat-ocr) (0.70.15)\n",
      "Requirement already satisfied: aiohttp in c:\\users\\dell\\anaconda3\\lib\\site-packages (from datasets[vision]->nougat-ocr) (3.10.5)\n",
      "Requirement already satisfied: Pillow>=6.2.1 in c:\\users\\dell\\anaconda3\\lib\\site-packages (from datasets[vision]->nougat-ocr) (10.4.0)\n",
      "Requirement already satisfied: click in c:\\users\\dell\\anaconda3\\lib\\site-packages (from nltk->nougat-ocr) (8.1.7)\n",
      "Requirement already satisfied: joblib in c:\\users\\dell\\anaconda3\\lib\\site-packages (from nltk->nougat-ocr) (1.4.2)\n",
      "Requirement already satisfied: Levenshtein==0.25.1 in c:\\users\\dell\\anaconda3\\lib\\site-packages (from python-Levenshtein->nougat-ocr) (0.25.1)\n",
      "Requirement already satisfied: rapidfuzz<4.0.0,>=3.8.0 in c:\\users\\dell\\anaconda3\\lib\\site-packages (from Levenshtein==0.25.1->python-Levenshtein->nougat-ocr) (3.9.7)\n",
      "Requirement already satisfied: aiohappyeyeballs>=2.3.0 in c:\\users\\dell\\anaconda3\\lib\\site-packages (from aiohttp->datasets[vision]->nougat-ocr) (2.4.0)\n",
      "Requirement already satisfied: aiosignal>=1.1.2 in c:\\users\\dell\\anaconda3\\lib\\site-packages (from aiohttp->datasets[vision]->nougat-ocr) (1.2.0)\n",
      "Requirement already satisfied: attrs>=17.3.0 in c:\\users\\dell\\anaconda3\\lib\\site-packages (from aiohttp->datasets[vision]->nougat-ocr) (23.2.0)\n",
      "Requirement already satisfied: frozenlist>=1.1.1 in c:\\users\\dell\\anaconda3\\lib\\site-packages (from aiohttp->datasets[vision]->nougat-ocr) (1.4.0)\n",
      "Requirement already satisfied: multidict<7.0,>=4.5 in c:\\users\\dell\\anaconda3\\lib\\site-packages (from aiohttp->datasets[vision]->nougat-ocr) (6.0.4)\n",
      "Requirement already satisfied: yarl<2.0,>=1.0 in c:\\users\\dell\\anaconda3\\lib\\site-packages (from aiohttp->datasets[vision]->nougat-ocr) (1.11.0)\n",
      "Requirement already satisfied: async-timeout<5.0,>=4.0 in c:\\users\\dell\\anaconda3\\lib\\site-packages (from aiohttp->datasets[vision]->nougat-ocr) (4.0.3)\n",
      "Requirement already satisfied: setuptools in c:\\users\\dell\\anaconda3\\lib\\site-packages (from lightning-utilities<2.0,>=0.10.0->lightning<2022,>=2.0.0->nougat-ocr) (74.1.2)\n",
      "Requirement already satisfied: annotated-types>=0.6.0 in c:\\users\\dell\\anaconda3\\lib\\site-packages (from pydantic>=2.7.0->albumentations>=1.0.0->nougat-ocr) (0.6.0)\n",
      "Requirement already satisfied: pydantic-core==2.23.4 in c:\\users\\dell\\anaconda3\\lib\\site-packages (from pydantic>=2.7.0->albumentations>=1.0.0->nougat-ocr) (2.23.4)\n",
      "Requirement already satisfied: charset-normalizer<4,>=2 in c:\\users\\dell\\anaconda3\\lib\\site-packages (from requests->transformers>=4.25.1->nougat-ocr) (3.3.2)\n",
      "Requirement already satisfied: idna<4,>=2.5 in c:\\users\\dell\\anaconda3\\lib\\site-packages (from requests->transformers>=4.25.1->nougat-ocr) (3.7)\n",
      "Requirement already satisfied: urllib3<3,>=1.21.1 in c:\\users\\dell\\anaconda3\\lib\\site-packages (from requests->transformers>=4.25.1->nougat-ocr) (1.26.19)\n",
      "Requirement already satisfied: certifi>=2017.4.17 in c:\\users\\dell\\anaconda3\\lib\\site-packages (from requests->transformers>=4.25.1->nougat-ocr) (2024.2.2)\n",
      "Requirement already satisfied: networkx>=2.8 in c:\\users\\dell\\anaconda3\\lib\\site-packages (from scikit-image>=0.21.0->albumentations>=1.0.0->nougat-ocr) (3.1)\n",
      "Requirement already satisfied: imageio>=2.27 in c:\\users\\dell\\anaconda3\\lib\\site-packages (from scikit-image>=0.21.0->albumentations>=1.0.0->nougat-ocr) (2.33.1)\n",
      "Requirement already satisfied: tifffile>=2022.8.12 in c:\\users\\dell\\anaconda3\\lib\\site-packages (from scikit-image>=0.21.0->albumentations>=1.0.0->nougat-ocr) (2023.4.12)\n",
      "Requirement already satisfied: PyWavelets>=1.1.1 in c:\\users\\dell\\anaconda3\\lib\\site-packages (from scikit-image>=0.21.0->albumentations>=1.0.0->nougat-ocr) (1.4.1)\n",
      "Requirement already satisfied: lazy_loader>=0.2 in c:\\users\\dell\\anaconda3\\lib\\site-packages (from scikit-image>=0.21.0->albumentations>=1.0.0->nougat-ocr) (0.4)\n",
      "Requirement already satisfied: sympy in c:\\users\\dell\\anaconda3\\lib\\site-packages (from torch>=1.4->timm==0.5.4->nougat-ocr) (1.13.2)\n",
      "Requirement already satisfied: jinja2 in c:\\users\\dell\\anaconda3\\lib\\site-packages (from torch>=1.4->timm==0.5.4->nougat-ocr) (3.1.4)\n",
      "Requirement already satisfied: colorama in c:\\users\\dell\\anaconda3\\lib\\site-packages (from tqdm<6.0,>=4.57.0->lightning<2022,>=2.0.0->nougat-ocr) (0.4.6)\n",
      "Requirement already satisfied: python-dateutil>=2.8.2 in c:\\users\\dell\\anaconda3\\lib\\site-packages (from pandas->datasets[vision]->nougat-ocr) (2.9.0.post0)\n",
      "Requirement already satisfied: pytz>=2020.1 in c:\\users\\dell\\anaconda3\\lib\\site-packages (from pandas->datasets[vision]->nougat-ocr) (2024.1)\n",
      "Requirement already satisfied: tzdata>=2022.1 in c:\\users\\dell\\anaconda3\\lib\\site-packages (from pandas->datasets[vision]->nougat-ocr) (2023.3)\n",
      "Requirement already satisfied: ruamel.yaml.clib>=0.2.7 in c:\\users\\dell\\anaconda3\\lib\\site-packages (from ruamel.yaml->sconf>=0.2.3->nougat-ocr) (0.2.8)\n",
      "Requirement already satisfied: six>=1.5 in c:\\users\\dell\\anaconda3\\lib\\site-packages (from python-dateutil>=2.8.2->pandas->datasets[vision]->nougat-ocr) (1.16.0)\n",
      "Requirement already satisfied: MarkupSafe>=2.0 in c:\\users\\dell\\anaconda3\\lib\\site-packages (from jinja2->torch>=1.4->timm==0.5.4->nougat-ocr) (2.1.3)\n",
      "Requirement already satisfied: mpmath<1.4,>=1.1.0 in c:\\users\\dell\\anaconda3\\lib\\site-packages (from sympy->torch>=1.4->timm==0.5.4->nougat-ocr) (1.3.0)\n"
     ]
    }
   ],
   "source": [
    "!pip install nougat-ocr"
   ]
  },
  {
   "cell_type": "code",
   "execution_count": 2,
   "id": "4840f2b4-01d0-4c12-b78f-11c345ad525f",
   "metadata": {},
   "outputs": [
    {
     "name": "stdout",
     "output_type": "stream",
     "text": [
      "Requirement already satisfied: paddlepaddle-gpu in c:\\users\\dell\\anaconda3\\lib\\site-packages (2.6.2)\n",
      "Requirement already satisfied: httpx in c:\\users\\dell\\anaconda3\\lib\\site-packages (from paddlepaddle-gpu) (0.27.0)\n",
      "Requirement already satisfied: numpy>=1.13 in c:\\users\\dell\\anaconda3\\lib\\site-packages (from paddlepaddle-gpu) (1.24.4)\n",
      "Requirement already satisfied: Pillow in c:\\users\\dell\\anaconda3\\lib\\site-packages (from paddlepaddle-gpu) (10.4.0)\n",
      "Requirement already satisfied: decorator in c:\\users\\dell\\anaconda3\\lib\\site-packages (from paddlepaddle-gpu) (5.1.1)\n",
      "Requirement already satisfied: astor in c:\\users\\dell\\anaconda3\\lib\\site-packages (from paddlepaddle-gpu) (0.8.1)\n",
      "Requirement already satisfied: opt-einsum==3.3.0 in c:\\users\\dell\\anaconda3\\lib\\site-packages (from paddlepaddle-gpu) (3.3.0)\n",
      "Requirement already satisfied: protobuf<=3.20.2,>=3.1.0 in c:\\users\\dell\\anaconda3\\lib\\site-packages (from paddlepaddle-gpu) (3.20.2)\n",
      "Requirement already satisfied: anyio in c:\\users\\dell\\anaconda3\\lib\\site-packages (from httpx->paddlepaddle-gpu) (4.2.0)\n",
      "Requirement already satisfied: certifi in c:\\users\\dell\\anaconda3\\lib\\site-packages (from httpx->paddlepaddle-gpu) (2024.2.2)\n",
      "Requirement already satisfied: httpcore==1.* in c:\\users\\dell\\anaconda3\\lib\\site-packages (from httpx->paddlepaddle-gpu) (1.0.2)\n",
      "Requirement already satisfied: idna in c:\\users\\dell\\anaconda3\\lib\\site-packages (from httpx->paddlepaddle-gpu) (3.7)\n",
      "Requirement already satisfied: sniffio in c:\\users\\dell\\anaconda3\\lib\\site-packages (from httpx->paddlepaddle-gpu) (1.3.0)\n",
      "Requirement already satisfied: h11<0.15,>=0.13 in c:\\users\\dell\\anaconda3\\lib\\site-packages (from httpcore==1.*->httpx->paddlepaddle-gpu) (0.14.0)\n",
      "Requirement already satisfied: exceptiongroup>=1.0.2 in c:\\users\\dell\\anaconda3\\lib\\site-packages (from anyio->httpx->paddlepaddle-gpu) (1.2.0)\n",
      "Requirement already satisfied: typing-extensions>=4.1 in c:\\users\\dell\\anaconda3\\lib\\site-packages (from anyio->httpx->paddlepaddle-gpu) (4.11.0)\n"
     ]
    }
   ],
   "source": [
    "!pip install paddlepaddle-gpu"
   ]
  },
  {
   "cell_type": "code",
   "execution_count": 3,
   "id": "2037deb5-42ff-4971-bf70-617c2affe5d4",
   "metadata": {},
   "outputs": [
    {
     "name": "stdout",
     "output_type": "stream",
     "text": [
      "Requirement already satisfied: paddleocr>=2.1.0 in c:\\users\\dell\\anaconda3\\lib\\site-packages (2.9.0)\n",
      "Requirement already satisfied: shapely in c:\\users\\dell\\anaconda3\\lib\\site-packages (from paddleocr>=2.1.0) (2.0.6)\n",
      "Requirement already satisfied: scikit-image in c:\\users\\dell\\anaconda3\\lib\\site-packages (from paddleocr>=2.1.0) (0.21.0)\n",
      "Requirement already satisfied: imgaug in c:\\users\\dell\\anaconda3\\lib\\site-packages (from paddleocr>=2.1.0) (0.4.0)\n",
      "Requirement already satisfied: pyclipper in c:\\users\\dell\\anaconda3\\lib\\site-packages (from paddleocr>=2.1.0) (1.3.0.post5)\n",
      "Requirement already satisfied: lmdb in c:\\users\\dell\\anaconda3\\lib\\site-packages (from paddleocr>=2.1.0) (1.4.1)\n",
      "Requirement already satisfied: tqdm in c:\\users\\dell\\anaconda3\\lib\\site-packages (from paddleocr>=2.1.0) (4.66.5)\n",
      "Requirement already satisfied: numpy<2.0 in c:\\users\\dell\\anaconda3\\lib\\site-packages (from paddleocr>=2.1.0) (1.24.4)\n",
      "Requirement already satisfied: rapidfuzz in c:\\users\\dell\\anaconda3\\lib\\site-packages (from paddleocr>=2.1.0) (3.9.7)\n",
      "Requirement already satisfied: opencv-python in c:\\users\\dell\\anaconda3\\lib\\site-packages (from paddleocr>=2.1.0) (4.8.1.78)\n",
      "Requirement already satisfied: opencv-contrib-python in c:\\users\\dell\\anaconda3\\lib\\site-packages (from paddleocr>=2.1.0) (4.10.0.84)\n",
      "Requirement already satisfied: cython in c:\\users\\dell\\anaconda3\\lib\\site-packages (from paddleocr>=2.1.0) (3.0.11)\n",
      "Requirement already satisfied: Pillow in c:\\users\\dell\\anaconda3\\lib\\site-packages (from paddleocr>=2.1.0) (10.4.0)\n",
      "Requirement already satisfied: pyyaml in c:\\users\\dell\\anaconda3\\lib\\site-packages (from paddleocr>=2.1.0) (6.0.1)\n",
      "Requirement already satisfied: python-docx in c:\\users\\dell\\anaconda3\\lib\\site-packages (from paddleocr>=2.1.0) (1.1.2)\n",
      "Requirement already satisfied: beautifulsoup4 in c:\\users\\dell\\anaconda3\\lib\\site-packages (from paddleocr>=2.1.0) (4.12.3)\n",
      "Requirement already satisfied: fonttools>=4.24.0 in c:\\users\\dell\\anaconda3\\lib\\site-packages (from paddleocr>=2.1.0) (4.51.0)\n",
      "Requirement already satisfied: fire>=0.3.0 in c:\\users\\dell\\anaconda3\\lib\\site-packages (from paddleocr>=2.1.0) (0.7.0)\n",
      "Requirement already satisfied: requests in c:\\users\\dell\\anaconda3\\lib\\site-packages (from paddleocr>=2.1.0) (2.31.0)\n",
      "Requirement already satisfied: termcolor in c:\\users\\dell\\anaconda3\\lib\\site-packages (from fire>=0.3.0->paddleocr>=2.1.0) (2.3.0)\n",
      "Requirement already satisfied: soupsieve>1.2 in c:\\users\\dell\\anaconda3\\lib\\site-packages (from beautifulsoup4->paddleocr>=2.1.0) (2.5)\n",
      "Requirement already satisfied: six in c:\\users\\dell\\anaconda3\\lib\\site-packages (from imgaug->paddleocr>=2.1.0) (1.16.0)\n",
      "Requirement already satisfied: scipy in c:\\users\\dell\\anaconda3\\lib\\site-packages (from imgaug->paddleocr>=2.1.0) (1.10.1)\n",
      "Requirement already satisfied: matplotlib in c:\\users\\dell\\anaconda3\\lib\\site-packages (from imgaug->paddleocr>=2.1.0) (3.7.2)\n",
      "Requirement already satisfied: imageio in c:\\users\\dell\\anaconda3\\lib\\site-packages (from imgaug->paddleocr>=2.1.0) (2.33.1)\n",
      "Requirement already satisfied: networkx>=2.8 in c:\\users\\dell\\anaconda3\\lib\\site-packages (from scikit-image->paddleocr>=2.1.0) (3.1)\n",
      "Requirement already satisfied: tifffile>=2022.8.12 in c:\\users\\dell\\anaconda3\\lib\\site-packages (from scikit-image->paddleocr>=2.1.0) (2023.4.12)\n",
      "Requirement already satisfied: PyWavelets>=1.1.1 in c:\\users\\dell\\anaconda3\\lib\\site-packages (from scikit-image->paddleocr>=2.1.0) (1.4.1)\n",
      "Requirement already satisfied: packaging>=21 in c:\\users\\dell\\anaconda3\\lib\\site-packages (from scikit-image->paddleocr>=2.1.0) (23.2)\n",
      "Requirement already satisfied: lazy_loader>=0.2 in c:\\users\\dell\\anaconda3\\lib\\site-packages (from scikit-image->paddleocr>=2.1.0) (0.4)\n",
      "Requirement already satisfied: lxml>=3.1.0 in c:\\users\\dell\\anaconda3\\lib\\site-packages (from python-docx->paddleocr>=2.1.0) (5.2.1)\n",
      "Requirement already satisfied: typing-extensions>=4.9.0 in c:\\users\\dell\\anaconda3\\lib\\site-packages (from python-docx->paddleocr>=2.1.0) (4.11.0)\n",
      "Requirement already satisfied: charset-normalizer<4,>=2 in c:\\users\\dell\\anaconda3\\lib\\site-packages (from requests->paddleocr>=2.1.0) (3.3.2)\n",
      "Requirement already satisfied: idna<4,>=2.5 in c:\\users\\dell\\anaconda3\\lib\\site-packages (from requests->paddleocr>=2.1.0) (3.7)\n",
      "Requirement already satisfied: urllib3<3,>=1.21.1 in c:\\users\\dell\\anaconda3\\lib\\site-packages (from requests->paddleocr>=2.1.0) (1.26.19)\n",
      "Requirement already satisfied: certifi>=2017.4.17 in c:\\users\\dell\\anaconda3\\lib\\site-packages (from requests->paddleocr>=2.1.0) (2024.2.2)\n",
      "Requirement already satisfied: colorama in c:\\users\\dell\\anaconda3\\lib\\site-packages (from tqdm->paddleocr>=2.1.0) (0.4.6)\n",
      "Requirement already satisfied: contourpy>=1.0.1 in c:\\users\\dell\\anaconda3\\lib\\site-packages (from matplotlib->imgaug->paddleocr>=2.1.0) (1.0.5)\n",
      "Requirement already satisfied: cycler>=0.10 in c:\\users\\dell\\anaconda3\\lib\\site-packages (from matplotlib->imgaug->paddleocr>=2.1.0) (0.11.0)\n",
      "Requirement already satisfied: kiwisolver>=1.0.1 in c:\\users\\dell\\anaconda3\\lib\\site-packages (from matplotlib->imgaug->paddleocr>=2.1.0) (1.4.4)\n",
      "Requirement already satisfied: pyparsing<3.1,>=2.3.1 in c:\\users\\dell\\anaconda3\\lib\\site-packages (from matplotlib->imgaug->paddleocr>=2.1.0) (3.0.9)\n",
      "Requirement already satisfied: python-dateutil>=2.7 in c:\\users\\dell\\anaconda3\\lib\\site-packages (from matplotlib->imgaug->paddleocr>=2.1.0) (2.9.0.post0)\n",
      "Requirement already satisfied: importlib-resources>=3.2.0 in c:\\users\\dell\\anaconda3\\lib\\site-packages (from matplotlib->imgaug->paddleocr>=2.1.0) (6.4.0)\n",
      "Requirement already satisfied: zipp>=3.1.0 in c:\\users\\dell\\anaconda3\\lib\\site-packages (from importlib-resources>=3.2.0->matplotlib->imgaug->paddleocr>=2.1.0) (3.17.0)\n"
     ]
    }
   ],
   "source": [
    "!pip install \"paddleocr>=2.1.0\""
   ]
  },
  {
   "cell_type": "code",
   "execution_count": 4,
   "id": "b6597094-0090-4e6f-a8f9-cacc1c55e059",
   "metadata": {
    "scrolled": true
   },
   "outputs": [
    {
     "name": "stdout",
     "output_type": "stream",
     "text": [
      "[2024/10/22 21:03:47] ppocr DEBUG: Namespace(alpha=1.0, alphacolor=(255, 255, 255), benchmark=False, beta=1.0, binarize=False, cls_batch_num=6, cls_image_shape='3, 48, 192', cls_model_dir='C:\\\\Users\\\\DELL/.paddleocr/whl\\\\cls\\\\ch_ppocr_mobile_v2.0_cls_infer', cls_thresh=0.9, cpu_threads=10, crop_res_save_dir='./output', det=True, det_algorithm='DB', det_box_type='quad', det_db_box_thresh=0.6, det_db_score_mode='fast', det_db_thresh=0.3, det_db_unclip_ratio=1.5, det_east_cover_thresh=0.1, det_east_nms_thresh=0.2, det_east_score_thresh=0.8, det_limit_side_len=960, det_limit_type='max', det_model_dir='C:\\\\Users\\\\DELL/.paddleocr/whl\\\\det\\\\en\\\\en_PP-OCRv3_det_infer', det_pse_box_thresh=0.85, det_pse_min_area=16, det_pse_scale=1, det_pse_thresh=0, det_sast_nms_thresh=0.2, det_sast_score_thresh=0.5, draw_img_save_dir='./inference_results', drop_score=0.5, e2e_algorithm='PGNet', e2e_char_dict_path='./ppocr/utils/ic15_dict.txt', e2e_limit_side_len=768, e2e_limit_type='max', e2e_model_dir=None, e2e_pgnet_mode='fast', e2e_pgnet_score_thresh=0.5, e2e_pgnet_valid_set='totaltext', enable_mkldnn=False, formula=False, formula_algorithm='LaTeXOCR', formula_batch_num=1, formula_char_dict_path=None, formula_model_dir=None, fourier_degree=5, gpu_id=0, gpu_mem=500, help='==SUPPRESS==', image_dir=None, image_orientation=False, invert=False, ir_optim=True, kie_algorithm='LayoutXLM', label_list=['0', '180'], lang='en', layout=True, layout_dict_path=None, layout_model_dir=None, layout_nms_threshold=0.5, layout_score_threshold=0.5, max_batch_size=10, max_text_length=25, merge_no_span_structure=True, min_subgraph_size=15, mode='structure', ocr=True, ocr_order_method=None, ocr_version='PP-OCRv4', output='./output', page_num=0, precision='fp32', process_id=0, re_model_dir=None, rec=True, rec_algorithm='SVTR_LCNet', rec_batch_num=6, rec_char_dict_path='C:\\\\Users\\\\DELL\\\\Anaconda3\\\\lib\\\\site-packages\\\\paddleocr\\\\ppocr\\\\utils\\\\en_dict.txt', rec_image_inverse=True, rec_image_shape='3, 48, 320', rec_model_dir='C:\\\\Users\\\\DELL/.paddleocr/whl\\\\rec\\\\en\\\\en_PP-OCRv4_rec_infer', recovery=False, recovery_to_markdown=False, return_word_box=False, save_crop_res=False, save_log_path='./log_output/', savefile=False, scales=[8, 16, 32], ser_dict_path='../train_data/XFUND/class_list_xfun.txt', ser_model_dir=None, show_log=True, sr_batch_num=1, sr_image_shape='3, 32, 128', sr_model_dir=None, structure_version='PP-StructureV2', table=True, table_algorithm='TableAttn', table_char_dict_path=None, table_max_len=488, table_model_dir=None, total_process_num=1, type='ocr', use_angle_cls=True, use_dilation=False, use_gpu=True, use_mlu=False, use_mp=False, use_npu=False, use_onnx=False, use_pdf2docx_api=False, use_pdserving=False, use_space_char=True, use_tensorrt=False, use_visual_backbone=True, use_xpu=False, vis_font_path='./doc/fonts/simfang.ttf', warmup=False)\n",
      "[2024/10/22 21:03:47] ppocr WARNING: The first GPU is used for inference by default, GPU ID: 0\n",
      "[2024/10/22 21:03:55] ppocr WARNING: The first GPU is used for inference by default, GPU ID: 0\n",
      "[2024/10/22 21:03:59] ppocr WARNING: The first GPU is used for inference by default, GPU ID: 0\n"
     ]
    }
   ],
   "source": [
    "from paddleocr import PaddleOCR, draw_ocr\n",
    "ocr = PaddleOCR(use_angle_cls=True, lang='en')"
   ]
  },
  {
   "cell_type": "code",
   "execution_count": 5,
   "id": "36282753-0c03-4226-95b0-ea6ce7ec7154",
   "metadata": {},
   "outputs": [],
   "source": [
    "from cv2 import imshow\n",
    "import cv2"
   ]
  },
  {
   "cell_type": "code",
   "execution_count": 6,
   "id": "927b2692-2953-4ae8-b205-dbb99f4f5f88",
   "metadata": {},
   "outputs": [],
   "source": [
    "img_path = 'Page 13.jpeg'"
   ]
  },
  {
   "cell_type": "code",
   "execution_count": 11,
   "id": "d95853b1-2c2f-4364-9e6c-48bdd4ffcb96",
   "metadata": {},
   "outputs": [],
   "source": [
    "img = cv2.imread(img_path, cv2.IMREAD_UNCHANGED)"
   ]
  },
  {
   "cell_type": "code",
   "execution_count": 13,
   "id": "37cb9cb1-9512-4e53-a3f7-10b66d4ee546",
   "metadata": {},
   "outputs": [
    {
     "ename": "RuntimeError",
     "evalue": "(PreconditionNotMet) The third-party dynamic library (cudnn64_8.dll) that Paddle depends on is not configured correctly. (error code is 126)\n  Suggestions:\n  1. Check if the third-party dynamic library (e.g. CUDA, CUDNN) is installed correctly and its version is matched with paddlepaddle you installed.\n  2. Configure third-party dynamic library environment variables as follows:\n  - Linux: set LD_LIBRARY_PATH by `export LD_LIBRARY_PATH=...`\n  - Windows: set PATH by `set PATH=XXX; (at ..\\paddle\\phi\\backends\\dynload\\dynamic_loader.cc:312)\n",
     "output_type": "error",
     "traceback": [
      "\u001b[1;31m---------------------------------------------------------------------------\u001b[0m",
      "\u001b[1;31mRuntimeError\u001b[0m                              Traceback (most recent call last)",
      "Cell \u001b[1;32mIn[13], line 1\u001b[0m\n\u001b[1;32m----> 1\u001b[0m result \u001b[38;5;241m=\u001b[39m \u001b[43mocr\u001b[49m\u001b[38;5;241;43m.\u001b[39;49m\u001b[43mocr\u001b[49m\u001b[43m(\u001b[49m\u001b[43mimg_path\u001b[49m\u001b[43m,\u001b[49m\u001b[43m \u001b[49m\u001b[38;5;28;43mcls\u001b[39;49m\u001b[38;5;241;43m=\u001b[39;49m\u001b[38;5;28;43;01mTrue\u001b[39;49;00m\u001b[43m)\u001b[49m\n\u001b[0;32m      2\u001b[0m result\n",
      "File \u001b[1;32m~\\Anaconda3\\lib\\site-packages\\paddleocr\\paddleocr.py:760\u001b[0m, in \u001b[0;36mPaddleOCR.ocr\u001b[1;34m(self, img, det, rec, cls, bin, inv, alpha_color, slice)\u001b[0m\n\u001b[0;32m    758\u001b[0m \u001b[38;5;28;01mfor\u001b[39;00m img \u001b[38;5;129;01min\u001b[39;00m imgs:\n\u001b[0;32m    759\u001b[0m     img \u001b[38;5;241m=\u001b[39m preprocess_image(img)\n\u001b[1;32m--> 760\u001b[0m     dt_boxes, rec_res, _ \u001b[38;5;241m=\u001b[39m \u001b[38;5;28;43mself\u001b[39;49m\u001b[38;5;241;43m.\u001b[39;49m\u001b[38;5;21;43m__call__\u001b[39;49m\u001b[43m(\u001b[49m\u001b[43mimg\u001b[49m\u001b[43m,\u001b[49m\u001b[43m \u001b[49m\u001b[38;5;28;43mcls\u001b[39;49m\u001b[43m,\u001b[49m\u001b[43m \u001b[49m\u001b[38;5;28;43mslice\u001b[39;49m\u001b[43m)\u001b[49m\n\u001b[0;32m    761\u001b[0m     \u001b[38;5;28;01mif\u001b[39;00m \u001b[38;5;129;01mnot\u001b[39;00m dt_boxes \u001b[38;5;129;01mand\u001b[39;00m \u001b[38;5;129;01mnot\u001b[39;00m rec_res:\n\u001b[0;32m    762\u001b[0m         ocr_res\u001b[38;5;241m.\u001b[39mappend(\u001b[38;5;28;01mNone\u001b[39;00m)\n",
      "File \u001b[1;32m~\\Anaconda3\\lib\\site-packages\\paddleocr\\tools\\infer\\predict_system.py:109\u001b[0m, in \u001b[0;36mTextSystem.__call__\u001b[1;34m(self, img, cls, slice)\u001b[0m\n\u001b[0;32m    107\u001b[0m     elapse \u001b[38;5;241m=\u001b[39m \u001b[38;5;28msum\u001b[39m(elapsed)\n\u001b[0;32m    108\u001b[0m \u001b[38;5;28;01melse\u001b[39;00m:\n\u001b[1;32m--> 109\u001b[0m     dt_boxes, elapse \u001b[38;5;241m=\u001b[39m \u001b[38;5;28;43mself\u001b[39;49m\u001b[38;5;241;43m.\u001b[39;49m\u001b[43mtext_detector\u001b[49m\u001b[43m(\u001b[49m\u001b[43mimg\u001b[49m\u001b[43m)\u001b[49m\n\u001b[0;32m    111\u001b[0m time_dict[\u001b[38;5;124m\"\u001b[39m\u001b[38;5;124mdet\u001b[39m\u001b[38;5;124m\"\u001b[39m] \u001b[38;5;241m=\u001b[39m elapse\n\u001b[0;32m    113\u001b[0m \u001b[38;5;28;01mif\u001b[39;00m dt_boxes \u001b[38;5;129;01mis\u001b[39;00m \u001b[38;5;28;01mNone\u001b[39;00m:\n",
      "File \u001b[1;32m~\\Anaconda3\\lib\\site-packages\\paddleocr\\tools\\infer\\predict_det.py:396\u001b[0m, in \u001b[0;36mTextDetector.__call__\u001b[1;34m(self, img, use_slice)\u001b[0m\n\u001b[0;32m    394\u001b[0m         elapse \u001b[38;5;241m+\u001b[39m\u001b[38;5;241m=\u001b[39m sub_elapse\n\u001b[0;32m    395\u001b[0m \u001b[38;5;28;01melse\u001b[39;00m:\n\u001b[1;32m--> 396\u001b[0m     dt_boxes, elapse \u001b[38;5;241m=\u001b[39m \u001b[38;5;28;43mself\u001b[39;49m\u001b[38;5;241;43m.\u001b[39;49m\u001b[43mpredict\u001b[49m\u001b[43m(\u001b[49m\u001b[43mimg\u001b[49m\u001b[43m)\u001b[49m\n\u001b[0;32m    397\u001b[0m \u001b[38;5;28;01mreturn\u001b[39;00m dt_boxes, elapse\n",
      "File \u001b[1;32m~\\Anaconda3\\lib\\site-packages\\paddleocr\\tools\\infer\\predict_det.py:254\u001b[0m, in \u001b[0;36mTextDetector.predict\u001b[1;34m(self, img)\u001b[0m\n\u001b[0;32m    252\u001b[0m     outputs \u001b[38;5;241m=\u001b[39m \u001b[38;5;28mself\u001b[39m\u001b[38;5;241m.\u001b[39mpredictor\u001b[38;5;241m.\u001b[39mrun(\u001b[38;5;28mself\u001b[39m\u001b[38;5;241m.\u001b[39moutput_tensors, input_dict)\n\u001b[0;32m    253\u001b[0m \u001b[38;5;28;01melse\u001b[39;00m:\n\u001b[1;32m--> 254\u001b[0m     \u001b[38;5;28;43mself\u001b[39;49m\u001b[38;5;241;43m.\u001b[39;49m\u001b[43minput_tensor\u001b[49m\u001b[38;5;241;43m.\u001b[39;49m\u001b[43mcopy_from_cpu\u001b[49m\u001b[43m(\u001b[49m\u001b[43mimg\u001b[49m\u001b[43m)\u001b[49m\n\u001b[0;32m    255\u001b[0m     \u001b[38;5;28mself\u001b[39m\u001b[38;5;241m.\u001b[39mpredictor\u001b[38;5;241m.\u001b[39mrun()\n\u001b[0;32m    256\u001b[0m     outputs \u001b[38;5;241m=\u001b[39m []\n",
      "File \u001b[1;32m~\\Anaconda3\\lib\\site-packages\\paddle\\inference\\wrapper.py:52\u001b[0m, in \u001b[0;36mtensor_copy_from_cpu\u001b[1;34m(self, data)\u001b[0m\n\u001b[0;32m     46\u001b[0m \u001b[38;5;250m\u001b[39m\u001b[38;5;124;03m'''\u001b[39;00m\n\u001b[0;32m     47\u001b[0m \u001b[38;5;124;03mSupport input type check based on tensor.copy_from_cpu.\u001b[39;00m\n\u001b[0;32m     48\u001b[0m \u001b[38;5;124;03m'''\u001b[39;00m\n\u001b[0;32m     49\u001b[0m \u001b[38;5;28;01mif\u001b[39;00m \u001b[38;5;28misinstance\u001b[39m(data, np\u001b[38;5;241m.\u001b[39mndarray) \u001b[38;5;129;01mor\u001b[39;00m (\n\u001b[0;32m     50\u001b[0m     \u001b[38;5;28misinstance\u001b[39m(data, \u001b[38;5;28mlist\u001b[39m) \u001b[38;5;129;01mand\u001b[39;00m \u001b[38;5;28mlen\u001b[39m(data) \u001b[38;5;241m>\u001b[39m \u001b[38;5;241m0\u001b[39m \u001b[38;5;129;01mand\u001b[39;00m \u001b[38;5;28misinstance\u001b[39m(data[\u001b[38;5;241m0\u001b[39m], \u001b[38;5;28mstr\u001b[39m)\n\u001b[0;32m     51\u001b[0m ):\n\u001b[1;32m---> 52\u001b[0m     \u001b[38;5;28;43mself\u001b[39;49m\u001b[38;5;241;43m.\u001b[39;49m\u001b[43m_copy_from_cpu_bind\u001b[49m\u001b[43m(\u001b[49m\u001b[43mdata\u001b[49m\u001b[43m)\u001b[49m\n\u001b[0;32m     53\u001b[0m \u001b[38;5;28;01melse\u001b[39;00m:\n\u001b[0;32m     54\u001b[0m     \u001b[38;5;28;01mraise\u001b[39;00m \u001b[38;5;167;01mTypeError\u001b[39;00m(\n\u001b[0;32m     55\u001b[0m         \u001b[38;5;124m\"\u001b[39m\u001b[38;5;124mIn copy_from_cpu, we only support numpy ndarray and list[str] data type.\u001b[39m\u001b[38;5;124m\"\u001b[39m\n\u001b[0;32m     56\u001b[0m     )\n",
      "\u001b[1;31mRuntimeError\u001b[0m: (PreconditionNotMet) The third-party dynamic library (cudnn64_8.dll) that Paddle depends on is not configured correctly. (error code is 126)\n  Suggestions:\n  1. Check if the third-party dynamic library (e.g. CUDA, CUDNN) is installed correctly and its version is matched with paddlepaddle you installed.\n  2. Configure third-party dynamic library environment variables as follows:\n  - Linux: set LD_LIBRARY_PATH by `export LD_LIBRARY_PATH=...`\n  - Windows: set PATH by `set PATH=XXX; (at ..\\paddle\\phi\\backends\\dynload\\dynamic_loader.cc:312)\n"
     ]
    }
   ],
   "source": [
    "result = ocr.ocr(img_path, cls=True)\n",
    "result"
   ]
  }
 ],
 "metadata": {
  "kernelspec": {
   "display_name": "Python 3 (ipykernel)",
   "language": "python",
   "name": "python3"
  },
  "language_info": {
   "codemirror_mode": {
    "name": "ipython",
    "version": 3
   },
   "file_extension": ".py",
   "mimetype": "text/x-python",
   "name": "python",
   "nbconvert_exporter": "python",
   "pygments_lexer": "ipython3",
   "version": "3.8.18"
  }
 },
 "nbformat": 4,
 "nbformat_minor": 5
}
